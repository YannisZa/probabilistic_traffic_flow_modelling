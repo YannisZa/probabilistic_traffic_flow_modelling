{
 "cells": [
  {
   "cell_type": "code",
   "execution_count": 3,
   "id": "fatty-seafood",
   "metadata": {},
   "outputs": [],
   "source": [
    "import numpy as np\n",
    "import pandas as pd\n",
    "import matplotlib.pyplot as plt\n",
    "import scipy.linalg\n",
    "import scipy.optimize as so\n",
    "import scipy.stats as ss\n",
    "import copy\n",
    "import json\n",
    "\n",
    "from tqdm import tqdm \n",
    "from matplotlib import cm\n",
    "from matplotlib.ticker import LinearLocator"
   ]
  },
  {
   "cell_type": "markdown",
   "id": "straight-world",
   "metadata": {},
   "source": [
    "# Import data"
   ]
  },
  {
   "cell_type": "code",
   "execution_count": 4,
   "id": "subjective-substitute",
   "metadata": {},
   "outputs": [
    {
     "name": "stderr",
     "output_type": "stream",
     "text": [
      "/Users/Yannis/.pyenv/versions/3.7.5/envs/ptfm/lib/python3.7/site-packages/IPython/core/interactiveshell.py:3156: DtypeWarning: Columns (2) have mixed types.Specify dtype option on import or set low_memory=False.\n",
      "  interactivity=interactivity, compiler=compiler, result=result)\n"
     ]
    }
   ],
   "source": [
    "utd19_filename = \"../data/input/UTD19.csv\"\n",
    "utd19 = pd.read_csv(utd19_filename)"
   ]
  },
  {
   "cell_type": "markdown",
   "id": "eligible-crash",
   "metadata": {},
   "source": [
    "# Process data"
   ]
  },
  {
   "cell_type": "code",
   "execution_count": 7,
   "id": "adverse-treasure",
   "metadata": {},
   "outputs": [],
   "source": [
    "utd19_london = utd19[utd19['city']=='london']\n",
    "# scoot = scoot.drop(columns=['Unnamed: 0','Unnamed: 0.1'])\n",
    "# scoot['measurement_end_utc'] = pd.to_datetime(scoot.measurement_end_utc)\n",
    "# scoot['hour'] = scoot.measurement_end_utc.apply(lambda x: x.hour)\n",
    "# scoot['n_vehicles_in_interval_norm'] = scoot.n_vehicles_in_interval.apply(lambda x: (x)/scoot.n_vehicles_in_interval.std() ) \n",
    "# scoot['saturation_norm'] = scoot.saturation.apply(lambda x: (x)/scoot.saturation.std() ) \n",
    "# scoot['occupancy_percentage_norm'] = scoot.saturation.apply(lambda x: (x)/scoot.occupancy_percentage.std() ) "
   ]
  },
  {
   "cell_type": "code",
   "execution_count": 12,
   "id": "mental-christian",
   "metadata": {},
   "outputs": [],
   "source": [
    "unique_days = np.unique(utd19_london.day.values)"
   ]
  },
  {
   "cell_type": "code",
   "execution_count": 21,
   "id": "dense-repeat",
   "metadata": {},
   "outputs": [
    {
     "data": {
      "text/plain": [
       "Text(0, 0.5, 'Flow')"
      ]
     },
     "execution_count": 21,
     "metadata": {},
     "output_type": "execute_result"
    },
    {
     "data": {
      "image/png": "[encoded data removed]",
      "text/plain": [
       "<Figure size 432x288 with 1 Axes>"
      ]
     },
     "metadata": {
      "needs_background": "light"
     },
     "output_type": "display_data"
    }
   ],
   "source": [
    "plt.scatter(utd19_london.head(500).occ,utd19_london.head(500).flow)\n",
    "plt.xlabel('Occupancy')\n",
    "plt.ylabel('Flow')"
   ]
  }
 ],
 "metadata": {
  "kernelspec": {
   "display_name": "ptfm_kernel",
   "language": "python",
   "name": "ptfm_kernel"
  },
  "language_info": {
   "codemirror_mode": {
    "name": "ipython",
    "version": 3
   },
   "file_extension": ".py",
   "mimetype": "text/x-python",
   "name": "python",
   "nbconvert_exporter": "python",
   "pygments_lexer": "ipython3",
   "version": "3.7.5"
  }
 },
 "nbformat": 4,
 "nbformat_minor": 5
}
