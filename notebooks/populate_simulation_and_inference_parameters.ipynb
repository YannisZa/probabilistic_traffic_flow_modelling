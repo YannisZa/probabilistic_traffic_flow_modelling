{
 "cells": [
  {
   "cell_type": "code",
   "execution_count": 1,
   "id": "passive-vehicle",
   "metadata": {},
   "outputs": [],
   "source": [
    "import os\n",
    "import re\n",
    "import sys\n",
    "import toml\n",
    "import json\n",
    "import numpy as np\n",
    "from tqdm import tqdm"
   ]
  },
  {
   "cell_type": "code",
   "execution_count": 2,
   "id": "duplicate-aggregate",
   "metadata": {},
   "outputs": [],
   "source": [
    "root = os.getcwd().split('notebooks')[0]"
   ]
  },
  {
   "cell_type": "code",
   "execution_count": 3,
   "id": "consistent-enclosure",
   "metadata": {},
   "outputs": [],
   "source": [
    "# Get data and inference ids\n",
    "inference_ids = [\"grwmh_greenshields_model_greenshields_sim_learn_noise_n200\",\n",
    "                  \"grwmh_daganzos_model_daganzos_sim_learn_noise_n200\",\n",
    "                  \"grwmh_delcastillos_model_delcastillos_sim_learn_noise_n200\",\n",
    "                  \"grwmh_greenbergs_model_greenbergs_sim_learn_noise_n200\",\n",
    "                  \"grwmh_underwoods_model_underwoods_sim_learn_noise_n200\",\n",
    "                  \"grwmh_northwesterns_model_northwesterns_sim_learn_noise_n200\",\n",
    "                  \"grwmh_newells_model_newells_sim_learn_noise_n200\",\n",
    "                  \"grwmh_wangs_model_wangs_sim_learn_noise_n200\",\n",
    "                  \"grwmh_smulders_model_smulders_sim_learn_noise_n200\",\n",
    "                  \"grwmh_deromphs_model_deromphs_sim_learn_noise_n200\"]\n",
    "data_ids = [\"greenshields_fd_log_simulation_n200\",\n",
    "            \"daganzos_fd_log_simulation_n200\",\n",
    "            \"delcastillos_fd_log_simulation_n200\",\n",
    "            \"greenbergs_fd_log_simulation_n200\",\n",
    "            \"underwoods_fd_log_simulation_n200\",\n",
    "            \"northwesterns_fd_log_simulation_n200\",\n",
    "            \"newells_fd_log_simulation_n200\",\n",
    "            \"wangs_fd_log_simulation_n200\",\n",
    "            \"smulders_fd_log_simulation_n200\",\n",
    "            \"deromphs_fd_log_simulation_n200\"]"
   ]
  },
  {
   "cell_type": "code",
   "execution_count": 4,
   "id": "tutorial-buyer",
   "metadata": {},
   "outputs": [],
   "source": [
    "# Proposal adjustments for mcmc tuning\n",
    "proposal_adjustments = { \n",
    "    \"daganzos\": {\"vanilla_mcmc\":0.8,\"thermodynamic_integration_mcmc\":0.6},\n",
    "    \"delcastillos\": {\"vanilla_mcmc\":0.8,\"thermodynamic_integration_mcmc\":0.6},\n",
    "    \"deromphs\": {\"vanilla_mcmc\":0.8,\"thermodynamic_integration_mcmc\":0.5},\n",
    "    \"greenbergs\": {\"vanilla_mcmc\":0.8,\"thermodynamic_integration_mcmc\":0.6},\n",
    "    \"greenshields\": {\"vanilla_mcmc\":0.8,\"thermodynamic_integration_mcmc\":0.5},\n",
    "    \"newells\": {\"vanilla_mcmc\":0.8,\"thermodynamic_integration_mcmc\":0.5},\n",
    "    \"northwesterns\": {\"vanilla_mcmc\":0.8,\"thermodynamic_integration_mcmc\":0.6},\n",
    "    \"smulders\": {\"vanilla_mcmc\":0.8,\"thermodynamic_integration_mcmc\":0.6},\n",
    "    \"underwoods\": {\"vanilla_mcmc\":0.8,\"thermodynamic_integration_mcmc\":0.6},\n",
    "    \"wangs\": {\"vanilla_mcmc\":0.8,\"thermodynamic_integration_mcmc\":0.6}\n",
    "}"
   ]
  },
  {
   "cell_type": "markdown",
   "id": "incident-reconstruction",
   "metadata": {},
   "source": [
    "## Create simulation parameters for new dataset size"
   ]
  },
  {
   "cell_type": "code",
   "execution_count": 5,
   "id": "colonial-pound",
   "metadata": {},
   "outputs": [],
   "source": [
    "# New dataset size\n",
    "new_n = 500\n",
    "# Flag for exporting parameters to file\n",
    "export = False"
   ]
  },
  {
   "cell_type": "code",
   "execution_count": 6,
   "id": "funky-tuning",
   "metadata": {},
   "outputs": [
    {
     "name": "stderr",
     "output_type": "stream",
     "text": [
      "100%|██████████| 10/10 [00:00<00:00, 1058.77it/s]\n"
     ]
    }
   ],
   "source": [
    "for data_id in tqdm(data_ids):\n",
    "    \n",
    "    # Import toml file\n",
    "    simulation_filename = os.path.join(root,'data','input','simulation_parameters',(data_id+'.toml'))\n",
    "    if os.path.exists(simulation_filename):\n",
    "        simulation_parameters  = toml.load(simulation_filename)\n",
    "    \n",
    "    # Ammend dataset size in id and rho_steps\n",
    "    simulation_parameters['id'] = simulation_parameters['id'].replace(\"_n200\",f\"_n{str(new_n)}\")\n",
    "    simulation_parameters['rho']['interval1']['rho_steps'] = int(new_n)\n",
    "    \n",
    "    # Get new simulation filename\n",
    "    new_simulation_filename = simulation_filename.replace(\"_n200\",f\"_n{str(new_n)}\")\n",
    "\n",
    "    # Export\n",
    "    if export:\n",
    "        with open(new_simulation_filename, 'w') as f:\n",
    "            new_toml_string = toml.dump(simulation_parameters, f)\n",
    "    \n",
    "    "
   ]
  },
  {
   "cell_type": "markdown",
   "id": "ranging-triple",
   "metadata": {},
   "source": [
    "## Create inference parameters for marginal likelihood comparisons\n",
    "This refers to creating copies of an inference id for running inference on different datasets"
   ]
  },
  {
   "cell_type": "code",
   "execution_count": 7,
   "id": "chemical-deployment",
   "metadata": {},
   "outputs": [
    {
     "data": {
      "text/plain": [
       "'grwmh_deromphs_model_deromphs_sim_learn_noise_n200'"
      ]
     },
     "execution_count": 7,
     "metadata": {},
     "output_type": "execute_result"
    }
   ],
   "source": [
    "# Pick inference id index\n",
    "index = 9\n",
    "# Flag for exporting parameters to file\n",
    "export = False\n",
    "\n",
    "# Make sure index is in list\n",
    "assert index < len(inference_ids)\n",
    "\n",
    "# Get inference id\n",
    "inference_id = inference_ids[index]\n",
    "\n",
    "inference_id"
   ]
  },
  {
   "cell_type": "code",
   "execution_count": 8,
   "id": "elegant-midnight",
   "metadata": {
    "scrolled": false
   },
   "outputs": [
    {
     "name": "stderr",
     "output_type": "stream",
     "text": [
      "100%|██████████| 10/10 [00:00<00:00, 327.64it/s]"
     ]
    },
    {
     "name": "stdout",
     "output_type": "stream",
     "text": [
      "grwmh_deromphs_model_greenshields_sim_learn_noise_n200\n",
      "grwmh_deromphs_model_daganzos_sim_learn_noise_n200\n",
      "grwmh_deromphs_model_delcastillos_sim_learn_noise_n200\n",
      "grwmh_deromphs_model_greenbergs_sim_learn_noise_n200\n",
      "grwmh_deromphs_model_underwoods_sim_learn_noise_n200\n",
      "grwmh_deromphs_model_northwesterns_sim_learn_noise_n200\n",
      "grwmh_deromphs_model_newells_sim_learn_noise_n200\n",
      "grwmh_deromphs_model_wangs_sim_learn_noise_n200\n",
      "grwmh_deromphs_model_smulders_sim_learn_noise_n200\n"
     ]
    },
    {
     "name": "stderr",
     "output_type": "stream",
     "text": [
      "\n"
     ]
    }
   ],
   "source": [
    "# Loop through datasets\n",
    "for data_id in tqdm(data_ids):\n",
    "        \n",
    "    # Get dataset FD model name\n",
    "    data_fd = data_id.split('_fd',1)[0]\n",
    "    model_fd = inference_id.split('_model',1)[0].split(\"_\",1)[1]\n",
    "    \n",
    "#     print('data_fd:',data_fd,'model_fd:',model_fd)\n",
    "    \n",
    "    # Replace simulation dataset iff model_fd != data_fd\n",
    "    if data_fd != model_fd: \n",
    "        new_inference_id = re.sub(r'\\_model.+\\_sim',f'_model_{data_fd}_sim',inference_id)\n",
    "    else: continue\n",
    "        \n",
    "    # Import toml file\n",
    "    inference_filename = os.path.join(root,'data','input','inference_parameters',model_fd,(inference_id+'.toml'))\n",
    "    if os.path.exists(inference_filename):\n",
    "        inference_parameters = toml.load(inference_filename)\n",
    "    \n",
    "    # Change id and data fundamental diagram properties\n",
    "    inference_parameters['id'] = new_inference_id\n",
    "    inference_parameters['data_id'] = re.sub(r'.+\\_fd',f'{data_fd}_fd',inference_parameters['data_id'])\n",
    "    inference_parameters['data_fundamental_diagram'] = data_fd\n",
    "        \n",
    "    # Change proposal adjustments\n",
    "    inference_parameters['inference']['vanilla_mcmc']['transition_kernel']['adapt_proposal_during_burnin'] = \"True\"\n",
    "    inference_parameters['inference']['vanilla_mcmc']['transition_kernel']['proposal_factor_adjustment'] = float(proposal_adjustments[data_fd]['vanilla_mcmc'])\n",
    "    inference_parameters['inference']['thermodynamic_integration_mcmc']['transition_kernel']['adapt_proposal_during_burnin'] = \"True\"\n",
    "    inference_parameters['inference']['thermodynamic_integration_mcmc']['transition_kernel']['proposal_factor_adjustment'] = float(proposal_adjustments[data_fd]['thermodynamic_integration_mcmc'])\n",
    "    \n",
    "    print(new_inference_id)\n",
    "#     print(json.dumps(inference_parameters,indent=2))\n",
    "    # Export\n",
    "    if export:\n",
    "        new_inference_filename = os.path.join(root,'data','input','inference_parameters',model_fd,(new_inference_id+'.toml'))\n",
    "        with open(new_inference_filename, 'w') as f:\n",
    "            new_toml_string = toml.dump(inference_parameters, f)\n",
    "    \n",
    "#     sys.exit(1)\n",
    "    "
   ]
  },
  {
   "cell_type": "markdown",
   "id": "fossil-rendering",
   "metadata": {},
   "source": [
    "## Create inference parameters for prior diffusion sensitivity"
   ]
  },
  {
   "cell_type": "code",
   "execution_count": 27,
   "id": "checked-tunisia",
   "metadata": {},
   "outputs": [
    {
     "data": {
      "text/plain": [
       "'grwmh_wangs_model_wangs_sim_learn_noise_n200'"
      ]
     },
     "execution_count": 27,
     "metadata": {},
     "output_type": "execute_result"
    }
   ],
   "source": [
    "# Pick inference id index\n",
    "index = 7\n",
    "# Flag for exporting parameters to file\n",
    "export = True\n",
    "# String characterising prior diffusion\n",
    "prior_diffusion = 'informative_prior'\n",
    "# 'diffuse_prior', 'regular_prior', 'informative_prior'\n",
    "alpha_steps = {\"diffuse_prior\":0.1,\"regular_prior\":0.5,\"informative_prior\":1}\n",
    "proposals = {\"diffuse_prior\":\"True\",\"regular_prior\":\"True\",\"informative_prior\":\"False\"}\n",
    "\n",
    "# Make sure index is in list\n",
    "assert index < len(inference_ids)\n",
    "\n",
    "# Get inference id\n",
    "inference_id = inference_ids[index]\n",
    "\n",
    "inference_id"
   ]
  },
  {
   "cell_type": "code",
   "execution_count": 28,
   "id": "affiliated-dealing",
   "metadata": {
    "scrolled": false
   },
   "outputs": [
    {
     "name": "stderr",
     "output_type": "stream",
     "text": [
      "100%|██████████| 10/10 [00:00<00:00, 349.67it/s]"
     ]
    },
    {
     "name": "stdout",
     "output_type": "stream",
     "text": [
      "grwmh_wangs_model_greenshields_sim_learn_noise_n200_informative_prior\n",
      "grwmh_wangs_model_daganzos_sim_learn_noise_n200_informative_prior\n",
      "grwmh_wangs_model_delcastillos_sim_learn_noise_n200_informative_prior\n",
      "grwmh_wangs_model_greenbergs_sim_learn_noise_n200_informative_prior\n",
      "grwmh_wangs_model_underwoods_sim_learn_noise_n200_informative_prior\n",
      "grwmh_wangs_model_northwesterns_sim_learn_noise_n200_informative_prior\n",
      "grwmh_wangs_model_newells_sim_learn_noise_n200_informative_prior\n",
      "grwmh_wangs_model_wangs_sim_learn_noise_n200_informative_prior\n",
      "grwmh_wangs_model_smulders_sim_learn_noise_n200_informative_prior\n",
      "grwmh_wangs_model_deromphs_sim_learn_noise_n200_informative_prior\n"
     ]
    },
    {
     "name": "stderr",
     "output_type": "stream",
     "text": [
      "\n"
     ]
    }
   ],
   "source": [
    "# Loop through datasets\n",
    "for data_id in tqdm(data_ids):\n",
    "        \n",
    "    # Get dataset FD model name\n",
    "    data_fd = data_id.split('_fd',1)[0]\n",
    "    model_fd = inference_id.split('_model',1)[0].split(\"_\",1)[1]\n",
    "#     print('data_fd:',data_fd,'model_fd:',model_fd)\n",
    "\n",
    "    # Replace simulation dataset iff model_fd != data_fd\n",
    "    inference_id = re.sub(r'\\_model.+\\_sim',f'_model_{data_fd}_sim',inference_id)\n",
    "    # Import toml file\n",
    "    inference_filename = os.path.join(root,'data','input','inference_parameters',model_fd,(inference_id+'.toml'))\n",
    "    if os.path.exists(inference_filename):\n",
    "        inference_parameters = toml.load(inference_filename)\n",
    "        \n",
    "    # Change inference id\n",
    "    inference_parameters['id'] = (inference_id+'_'+prior_diffusion)\n",
    "    # Change other things\n",
    "    inference_parameters[\"inference\"]['vanilla_mcmc'][\"transition_kernel\"][\"adapt_proposal_during_burnin\"] = \"False\"\n",
    "    del inference_parameters[\"inference\"]['vanilla_mcmc'][\"transition_kernel\"][\"beta_step\"]\n",
    "    del inference_parameters[\"inference\"]['thermodynamic_integration_mcmc'][\"transition_kernel\"][\"beta_step\"]\n",
    "    inference_parameters[\"inference\"]['thermodynamic_integration_mcmc'][\"transition_kernel\"][\"alpha_step\"] = alpha_steps[prior_diffusion]\n",
    "    inference_parameters[\"inference\"]['thermodynamic_integration_mcmc'][\"transition_kernel\"][\"dynamic_proposal\"] = proposals[prior_diffusion]\n",
    "    \n",
    "    p0 = list(inference_parameters['inference']['initialisation']['p0'])\n",
    "    \n",
    "    for i,k in enumerate(inference_parameters['inference']['priors']):\n",
    "        if k == 'sigma2':\n",
    "            inference_parameters['inference']['priors'][k]['loc'] = np.round(p0[i],2)\n",
    "        else:\n",
    "            inference_parameters['inference']['priors'][k]['loc'] = np.round(p0[i],1)\n",
    "    \n",
    "#     print(json.dumps(inference_parameters,indent=2))\n",
    "        \n",
    "    # Export\n",
    "    if export:\n",
    "        new_inference_filename = os.path.join(root,'data','input','inference_parameters',model_fd,prior_diffusion,(inference_id+'_'+prior_diffusion+'.toml'))\n",
    "        if not os.path.exists(os.path.dirname(new_inference_filename)):\n",
    "            os.makedirs(os.path.dirname(new_inference_filename))\n",
    "#         if not os.path.exists(new_inference_filename):\n",
    "        print(inference_id+'_'+prior_diffusion)\n",
    "        with open(new_inference_filename, 'w') as f:\n",
    "            new_toml_string = toml.dump(inference_parameters, f)"
   ]
  },
  {
   "cell_type": "markdown",
   "id": "unnecessary-louisiana",
   "metadata": {},
   "source": [
    "## Changing proposals"
   ]
  },
  {
   "cell_type": "code",
   "execution_count": 11,
   "id": "advanced-press",
   "metadata": {},
   "outputs": [
    {
     "name": "stdout",
     "output_type": "stream",
     "text": [
      "[0.03333333333333333, 0.04166666666666667, 0.008333333333333333, 0.04166666666666667, 0.11666666666666668]\n"
     ]
    }
   ],
   "source": [
    "a = [ 0.02, 0.025, 0.005, 0.025, 0.07]\n",
    "factor = 5/3\n",
    "print('['+\", \".join([str(factor*e) for e in a])+']')"
   ]
  },
  {
   "cell_type": "code",
   "execution_count": 12,
   "id": "acquired-transfer",
   "metadata": {},
   "outputs": [
    {
     "data": {
      "text/plain": [
       "array([0.00000000e+00, 4.87539728e-08, 1.56012713e-06, 1.18472154e-05,\n",
       "       4.99240681e-05, 1.52356165e-04, 3.79110892e-04, 8.19408020e-04,\n",
       "       1.59757018e-03, 2.87887334e-03, 4.87539728e-03, 7.85187607e-03,\n",
       "       1.21315486e-02, 1.81020088e-02, 2.62210567e-02, 3.70225481e-02,\n",
       "       5.11222458e-02, 6.92236695e-02, 9.21239468e-02, 1.20719663e-01,\n",
       "       1.56012713e-01, 1.99116149e-01, 2.51260034e-01, 3.13797291e-01,\n",
       "       3.88209554e-01, 4.76113015e-01, 5.79264282e-01, 6.99566221e-01,\n",
       "       8.39073813e-01, 1.00000000e+00])"
      ]
     },
     "execution_count": 12,
     "metadata": {},
     "output_type": "execute_result"
    }
   ],
   "source": [
    "_n = 30\n",
    "_pow = 5\n",
    "np.array([(i/(_n-1))**_pow for i in range(0,_n)]).reshape((_n))"
   ]
  },
  {
   "cell_type": "markdown",
   "id": "discrete-representative",
   "metadata": {},
   "source": [
    "## Deleting empty folders"
   ]
  },
  {
   "cell_type": "code",
   "execution_count": 13,
   "id": "excellent-approach",
   "metadata": {},
   "outputs": [
    {
     "data": {
      "text/plain": [
       "'/Users/Yannis/code/probabilistic_traffic_flow_modelling/notebooks'"
      ]
     },
     "execution_count": 13,
     "metadata": {},
     "output_type": "execute_result"
    }
   ],
   "source": [
    "os.getcwd()"
   ]
  },
  {
   "cell_type": "code",
   "execution_count": 19,
   "id": "native-dressing",
   "metadata": {},
   "outputs": [],
   "source": [
    "# root = '/Users/Yannis/code/probabilistic_traffic_flow_modelling/data/output/experiment_data/'\n",
    "# folders = list(os.walk(root))[1:]\n",
    "\n",
    "# for folder in folders:\n",
    "#     if not folder[2]:\n",
    "#         os.rmdir(folder[0])"
   ]
  }
 ],
 "metadata": {
  "kernelspec": {
   "display_name": "ptfm_kernel",
   "language": "python",
   "name": "ptfm_kernel"
  },
  "language_info": {
   "codemirror_mode": {
    "name": "ipython",
    "version": 3
   },
   "file_extension": ".py",
   "mimetype": "text/x-python",
   "name": "python",
   "nbconvert_exporter": "python",
   "pygments_lexer": "ipython3",
   "version": "3.7.5"
  }
 },
 "nbformat": 4,
 "nbformat_minor": 5
}
