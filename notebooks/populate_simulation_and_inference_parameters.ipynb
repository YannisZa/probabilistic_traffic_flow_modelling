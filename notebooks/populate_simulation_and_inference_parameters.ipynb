{
 "cells": [
  {
   "cell_type": "code",
   "execution_count": 8,
   "id": "passive-vehicle",
   "metadata": {},
   "outputs": [],
   "source": [
    "import os\n",
    "import re\n",
    "import sys\n",
    "import toml\n",
    "import json\n",
    "from tqdm import tqdm"
   ]
  },
  {
   "cell_type": "code",
   "execution_count": 9,
   "id": "duplicate-aggregate",
   "metadata": {},
   "outputs": [],
   "source": [
    "root = os.getcwd().split('notebooks')[0]"
   ]
  },
  {
   "cell_type": "code",
   "execution_count": 10,
   "id": "consistent-enclosure",
   "metadata": {},
   "outputs": [],
   "source": [
    "# Get data and inference ids\n",
    "inference_ids = [\"grwmh_greenshields_model_greenshields_sim_learn_noise_n200\",\n",
    "                  \"grwmh_daganzos_model_daganzos_sim_learn_noise_n200\",\n",
    "                  \"grwmh_delcastillos_model_delcastillos_sim_learn_noise_n200\",\n",
    "                  \"grwmh_greenbergs_model_greenbergs_sim_learn_noise_n200\",\n",
    "                  \"grwmh_underwoods_model_underwoods_sim_learn_noise_n200\",\n",
    "                  \"grwmh_northwesterns_model_northwesterns_sim_learn_noise_n200\",\n",
    "                  \"grwmh_newells_model_newells_sim_learn_noise_n200\",\n",
    "                  \"grwmh_wangs_model_wangs_sim_learn_noise_n200\",\n",
    "                  \"grwmh_smulders_model_smulders_sim_learn_noise_n200\",\n",
    "                  \"grwmh_deromphs_model_deromphs_sim_learn_noise\"]\n",
    "data_ids = [\"greenshields_fd_log_simulation_n200\",\n",
    "            \"daganzos_fd_log_simulation_n200\",\n",
    "            \"delcastillos_fd_log_simulation_n200\",\n",
    "            \"greenbergs_fd_log_simulation_n200\",\n",
    "            \"underwoods_fd_log_simulation_n200\",\n",
    "            \"northwesterns_fd_log_simulation_n200\",\n",
    "            \"newells_fd_log_simulation_n200\",\n",
    "            \"wangs_fd_log_simulation_n200\",\n",
    "            \"smulders_fd_log_simulation_n200\",\n",
    "            \"deromphs_fd_log_simulation_n200\"]"
   ]
  },
  {
   "cell_type": "code",
   "execution_count": 17,
   "id": "empirical-newfoundland",
   "metadata": {},
   "outputs": [],
   "source": [
    "# Proposal adjustments for mcmc tuning\n",
    "proposal_adjustments = { \n",
    "    \"daganzos\": {\"vanilla_mcmc\":0.9,\"thermodynamic_integration_mcmc\":0.6},\n",
    "    \"delcastillos\": {\"vanilla_mcmc\":0.9,\"thermodynamic_integration_mcmc\":0.6},\n",
    "    \"deromphs\": {\"vanilla_mcmc\":0.8,\"thermodynamic_integration_mcmc\":0.3},\n",
    "    \"greenbergs\": {\"vanilla_mcmc\":0.9,\"thermodynamic_integration_mcmc\":0.5},\n",
    "    \"greenshields\": {\"vanilla_mcmc\":0.9,\"thermodynamic_integration_mcmc\":0.5},\n",
    "    \"newells\": {\"vanilla_mcmc\":0.9,\"thermodynamic_integration_mcmc\":0.5},\n",
    "    \"northwesterns\": {\"vanilla_mcmc\":0.7,\"thermodynamic_integration_mcmc\":0.3},\n",
    "    \"smulders\": {\"vanilla_mcmc\":0.9,\"thermodynamic_integration_mcmc\":0.6},\n",
    "    \"underwoods\": {\"vanilla_mcmc\":0.7,\"thermodynamic_integration_mcmc\":0.3},\n",
    "    \"wangs\": {\"vanilla_mcmc\":0.9,\"thermodynamic_integration_mcmc\":0.4}\n",
    "}"
   ]
  },
  {
   "cell_type": "markdown",
   "id": "incident-reconstruction",
   "metadata": {},
   "source": [
    "## Create simulation parameters for new dataset size"
   ]
  },
  {
   "cell_type": "code",
   "execution_count": 19,
   "id": "colonial-pound",
   "metadata": {},
   "outputs": [],
   "source": [
    "# New dataset size\n",
    "new_n = 500\n",
    "# Flag for exporting parameters to file\n",
    "export = False"
   ]
  },
  {
   "cell_type": "code",
   "execution_count": 20,
   "id": "funky-tuning",
   "metadata": {},
   "outputs": [
    {
     "name": "stderr",
     "output_type": "stream",
     "text": [
      "100%|██████████| 10/10 [00:00<00:00, 743.93it/s]\n"
     ]
    }
   ],
   "source": [
    "for data_id in tqdm(data_ids):\n",
    "    \n",
    "    # Import toml file\n",
    "    simulation_filename = os.path.join(root,'data','input','simulation_parameters',(data_id+'.toml'))\n",
    "    if os.path.exists(simulation_filename):\n",
    "        simulation_parameters  = toml.load(simulation_filename)\n",
    "    \n",
    "    # Ammend dataset size in id and rho_steps\n",
    "    simulation_parameters['id'] = simulation_parameters['id'].replace(\"_n200\",f\"_n{str(new_n)}\")\n",
    "    simulation_parameters['rho']['interval1']['rho_steps'] = int(new_n)\n",
    "    \n",
    "    # Get new simulation filename\n",
    "    new_simulation_filename = simulation_filename.replace(\"_n200\",f\"_n{str(new_n)}\")\n",
    "\n",
    "    # Export\n",
    "    if export:\n",
    "        with open(new_simulation_filename, 'w') as f:\n",
    "            new_toml_string = toml.dump(simulation_parameters, f)\n",
    "    \n",
    "    "
   ]
  },
  {
   "cell_type": "markdown",
   "id": "ranging-triple",
   "metadata": {},
   "source": [
    "## Create inference parameters for marginal likelihood comparisons\n",
    "This refers to creating copies of an inference id for running inference on different datasets"
   ]
  },
  {
   "cell_type": "code",
   "execution_count": 38,
   "id": "chemical-deployment",
   "metadata": {},
   "outputs": [
    {
     "data": {
      "text/plain": [
       "'grwmh_underwoods_model_underwoods_sim_learn_noise_n200'"
      ]
     },
     "execution_count": 38,
     "metadata": {},
     "output_type": "execute_result"
    }
   ],
   "source": [
    "# Pick inference id index\n",
    "index = 4\n",
    "# Flag for exporting parameters to file\n",
    "export = False\n",
    "\n",
    "# Make sure index is in list\n",
    "assert index < len(inference_ids)\n",
    "\n",
    "# Get inference id\n",
    "inference_id = inference_ids[index]\n",
    "\n",
    "inference_id"
   ]
  },
  {
   "cell_type": "code",
   "execution_count": 37,
   "id": "elegant-midnight",
   "metadata": {
    "scrolled": false
   },
   "outputs": [
    {
     "name": "stderr",
     "output_type": "stream",
     "text": [
      "100%|██████████| 10/10 [00:00<00:00, 173.96it/s]\n"
     ]
    }
   ],
   "source": [
    "# Loop through datasets\n",
    "for data_id in tqdm(data_ids):\n",
    "        \n",
    "    # Get dataset FD model name\n",
    "    data_fd = data_id.split('_fd',1)[0]\n",
    "    model_fd = inference_id.split('_model',1)[0].split(\"_\",1)[1]\n",
    "    \n",
    "#     print('data_fd:',data_fd,'model_fd:',model_fd)\n",
    "    \n",
    "    # Replace simulation dataset iff model_fd != data_fd\n",
    "    if data_fd != model_fd: \n",
    "        new_inference_id = re.sub(r'\\_model.+\\_sim',f'_model_{data_fd}_sim',inference_id)\n",
    "    else: continue\n",
    "        \n",
    "    # Import toml file\n",
    "    inference_filename = os.path.join(root,'data','input','inference_parameters',model_fd,(inference_id+'.toml'))\n",
    "    if os.path.exists(inference_filename):\n",
    "        inference_parameters = toml.load(inference_filename)\n",
    "    \n",
    "    # Change id and data fundamental diagram properties\n",
    "    inference_parameters['id'] = new_inference_id\n",
    "    inference_parameters['data_id'] = re.sub(r'.+\\_fd',f'{data_fd}_fd',inference_parameters['data_id'])\n",
    "    inference_parameters['data_fundamental_diagram'] = data_fd\n",
    "        \n",
    "    # Change proposal adjustments\n",
    "    inference_parameters['inference']['vanilla_mcmc']['transition_kernel']['adapt_proposal_during_burnin'] = \"True\"\n",
    "    inference_parameters['inference']['vanilla_mcmc']['transition_kernel']['proposal_factor_adjustment'] = float(proposal_adjustments[data_fd]['vanilla_mcmc'])\n",
    "    inference_parameters['inference']['thermodynamic_integration_mcmc']['transition_kernel']['adapt_proposal_during_burnin'] = \"True\"\n",
    "    inference_parameters['inference']['thermodynamic_integration_mcmc']['transition_kernel']['proposal_factor_adjustment'] = float(proposal_adjustments[data_fd]['thermodynamic_integration_mcmc'])\n",
    "    \n",
    "#     print(new_inference_id)\n",
    "#     print(json.dumps(inference_parameters,indent=2))\n",
    "    # Export\n",
    "    if export:\n",
    "        new_inference_filename = os.path.join(root,'data','input','inference_parameters',model_fd,(new_inference_id+'.toml'))\n",
    "        with open(new_inference_filename, 'w') as f:\n",
    "            new_toml_string = toml.dump(inference_parameters, f)\n",
    "    \n",
    "#     sys.exit(1)\n",
    "    "
   ]
  }
 ],
 "metadata": {
  "kernelspec": {
   "display_name": "ptfm_kernel",
   "language": "python",
   "name": "ptfm_kernel"
  },
  "language_info": {
   "codemirror_mode": {
    "name": "ipython",
    "version": 3
   },
   "file_extension": ".py",
   "mimetype": "text/x-python",
   "name": "python",
   "nbconvert_exporter": "python",
   "pygments_lexer": "ipython3",
   "version": "3.7.5"
  }
 },
 "nbformat": 4,
 "nbformat_minor": 5
}
