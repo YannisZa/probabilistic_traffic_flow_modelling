{
 "cells": [
  {
   "cell_type": "code",
   "execution_count": 105,
   "id": "passive-vehicle",
   "metadata": {},
   "outputs": [],
   "source": [
    "import os\n",
    "import re\n",
    "import sys\n",
    "import toml\n",
    "import json\n",
    "from tqdm import tqdm"
   ]
  },
  {
   "cell_type": "code",
   "execution_count": 18,
   "id": "duplicate-aggregate",
   "metadata": {},
   "outputs": [],
   "source": [
    "root = os.getcwd().split('notebooks')[0]"
   ]
  },
  {
   "cell_type": "code",
   "execution_count": 83,
   "id": "consistent-enclosure",
   "metadata": {},
   "outputs": [],
   "source": [
    "# Get data and inference ids\n",
    "inference_ids = [\"grwmh_greenshields_model_greenshields_sim_learn_noise_n200\",\n",
    "                  \"grwmh_daganzos_model_daganzos_sim_learn_noise_n200\",\n",
    "                  \"grwmh_delcastillos_model_delcastillos_sim_learn_noise_n200\",\n",
    "                  \"grwmh_greenbergs_model_greenbergs_sim_learn_noise_n200\",\n",
    "                  \"grwmh_underwoods_model_underwoods_sim_learn_noise_n200\",\n",
    "                  \"grwmh_northwesterns_model_northwesterns_sim_learn_noise_n200\",\n",
    "                  \"grwmh_newells_model_newells_sim_learn_noise_n200\",\n",
    "                  \"grwmh_wangs_model_wangs_sim_learn_noise_n200\",\n",
    "                  \"grwmh_smulders_model_smulders_sim_learn_noise_n200\"]#,\n",
    "                  #\"grwmh_deromphs_model_deromphs_sim_learn_noise\"]\n",
    "data_ids = [\"greenshields_fd_log_simulation_n200\",\n",
    "            \"daganzos_fd_log_simulation_n200\",\n",
    "            \"delcastillos_fd_log_simulation_n200\",\n",
    "            \"greenbergs_fd_log_simulation_n200\",\n",
    "            \"underwoods_fd_log_simulation_n200\",\n",
    "            \"northwesterns_fd_log_simulation_n200\",\n",
    "            \"newells_fd_log_simulation_n200\",\n",
    "            \"wangs_fd_log_simulation_n200\",\n",
    "            \"smulders_fd_log_simulation_n200\"]#,\n",
    "          #\"deromphs_fd_log_simulation_n200\"]"
   ]
  },
  {
   "cell_type": "markdown",
   "id": "incident-reconstruction",
   "metadata": {},
   "source": [
    "## Create simulation parameters for new dataset size"
   ]
  },
  {
   "cell_type": "code",
   "execution_count": 84,
   "id": "colonial-pound",
   "metadata": {},
   "outputs": [],
   "source": [
    "# New dataset size\n",
    "new_n = 500\n",
    "# Flag for exporting parameters to file\n",
    "export = False"
   ]
  },
  {
   "cell_type": "code",
   "execution_count": 85,
   "id": "funky-tuning",
   "metadata": {},
   "outputs": [
    {
     "name": "stderr",
     "output_type": "stream",
     "text": [
      "100%|██████████| 9/9 [00:00<00:00, 1513.16it/s]\n"
     ]
    }
   ],
   "source": [
    "for data_id in tqdm(data_ids):\n",
    "    \n",
    "    # Import toml file\n",
    "    simulation_filename = os.path.join(root,'data','input','simulation_parameters',(data_id+'.toml'))\n",
    "    if os.path.exists(simulation_filename):\n",
    "        simulation_parameters  = toml.load(simulation_filename)\n",
    "    \n",
    "    # Ammend dataset size in id and rho_steps\n",
    "    simulation_parameters['id'] = simulation_parameters['id'].replace(\"_n200\",f\"_n{str(new_n)}\")\n",
    "    simulation_parameters['rho']['interval1']['rho_steps'] = int(new_n)\n",
    "    \n",
    "    # Get new simulation filename\n",
    "    new_simulation_filename = simulation_filename.replace(\"_n200\",f\"_n{str(new_n)}\")\n",
    "\n",
    "    # Export\n",
    "    if export:\n",
    "        with open(new_simulation_filename, 'w') as f:\n",
    "            new_toml_string = toml.dump(simulation_parameters, f)\n",
    "    \n",
    "    "
   ]
  },
  {
   "cell_type": "markdown",
   "id": "ranging-triple",
   "metadata": {},
   "source": [
    "## Create inference parameters for marginal likelihood comparisons\n",
    "This refers to creating copies of an inference id for running inference on different datasets"
   ]
  },
  {
   "cell_type": "code",
   "execution_count": 128,
   "id": "chemical-deployment",
   "metadata": {},
   "outputs": [],
   "source": [
    "# Pick inference id index\n",
    "index = 0\n",
    "# Flag for exporting parameters to file\n",
    "export = False"
   ]
  },
  {
   "cell_type": "code",
   "execution_count": 129,
   "id": "elegant-midnight",
   "metadata": {
    "scrolled": false
   },
   "outputs": [
    {
     "name": "stderr",
     "output_type": "stream",
     "text": [
      "100%|██████████| 9/9 [00:00<00:00, 404.21it/s]"
     ]
    },
    {
     "name": "stdout",
     "output_type": "stream",
     "text": [
      "data_fd: greenshields model_fd: greenshields\n",
      "data_fd: daganzos model_fd: greenshields\n",
      "data_fd: delcastillos model_fd: greenshields\n",
      "data_fd: greenbergs model_fd: greenshields\n",
      "data_fd: underwoods model_fd: greenshields\n",
      "data_fd: northwesterns model_fd: greenshields\n",
      "data_fd: newells model_fd: greenshields\n",
      "data_fd: wangs model_fd: greenshields\n",
      "data_fd: smulders model_fd: greenshields\n"
     ]
    },
    {
     "name": "stderr",
     "output_type": "stream",
     "text": [
      "\n"
     ]
    }
   ],
   "source": [
    "# Make sure index is in list\n",
    "assert index < len(inference_ids)\n",
    "\n",
    "# Get inference id\n",
    "inference_id = inference_ids[index]\n",
    "\n",
    "# Loop through datasets\n",
    "for data_id in tqdm(data_ids):\n",
    "        \n",
    "    # Get dataset FD model name\n",
    "    data_fd = data_id.split('_fd',1)[0]\n",
    "    model_fd = inference_id.split('_model',1)[0].split(\"_\",1)[1]\n",
    "    \n",
    "    print('data_fd:',data_fd,'model_fd:',model_fd)\n",
    "    \n",
    "    # Replace simulation dataset iff model_fd != data_fd\n",
    "    if data_fd != model_fd: \n",
    "        new_inference_id = re.sub(r'\\_model.+\\_sim',f'_model_{data_fd}_sim',inference_id)\n",
    "    else: continue\n",
    "        \n",
    "    # Import toml file\n",
    "    inference_filename = os.path.join(root,'data','input','inference_parameters',model_fd,(inference_id+'.toml'))\n",
    "    if os.path.exists(inference_filename):\n",
    "        inference_parameters = toml.load(inference_filename)\n",
    "    \n",
    "    # Change id and data fundamental diagram properties\n",
    "    inference_parameters['id'] = new_inference_id\n",
    "    inference_parameters['data_id'] = re.sub(r'.+\\_fd',f'{data_fd}_fd',inference_parameters['data_id'])\n",
    "    inference_parameters['data_fundamental_diagram'] = data_fd\n",
    "    \n",
    "    # Export\n",
    "    if export: \n",
    "        new_inference_filename = os.path.join(root,'data','input','inference_parameters',model_fd,(new_inference_id+'.toml'))\n",
    "        with open(new_inference_filename, 'w') as f:\n",
    "            new_toml_string = toml.dump(inference_parameters, f)\n",
    "    \n",
    "    "
   ]
  }
 ],
 "metadata": {
  "kernelspec": {
   "display_name": "ptfm_kernel",
   "language": "python",
   "name": "ptfm_kernel"
  },
  "language_info": {
   "codemirror_mode": {
    "name": "ipython",
    "version": 3
   },
   "file_extension": ".py",
   "mimetype": "text/x-python",
   "name": "python",
   "nbconvert_exporter": "python",
   "pygments_lexer": "ipython3",
   "version": "3.7.5"
  }
 },
 "nbformat": 4,
 "nbformat_minor": 5
}
