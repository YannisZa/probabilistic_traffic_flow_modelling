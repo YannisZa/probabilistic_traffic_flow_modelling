{
 "cells": [
  {
   "cell_type": "code",
   "execution_count": 8,
   "id": "passive-vehicle",
   "metadata": {},
   "outputs": [],
   "source": [
    "import os\n",
    "import sys\n",
    "import toml\n",
    "from tqdm import tqdm"
   ]
  },
  {
   "cell_type": "code",
   "execution_count": 18,
   "id": "duplicate-aggregate",
   "metadata": {},
   "outputs": [],
   "source": [
    "root = os.getcwd().split('notebooks')[0]"
   ]
  },
  {
   "cell_type": "code",
   "execution_count": 22,
   "id": "consistent-enclosure",
   "metadata": {},
   "outputs": [],
   "source": [
    "# Get data and inference ids\n",
    "inference_ids = [\"grwmh_greenshields_model_greenshields_sim_learn_noise_n200\",\n",
    "                  \"grwmh_daganzos_model_daganzos_sim_learn_noise_n200\",\n",
    "                  \"grwmh_delcastillos_model_delcastillos_sim_learn_noise_n200\",\n",
    "                  \"grwmh_greenbergs_model_greenbergs_sim_learn_noise_n200\",\n",
    "                  \"grwmh_underwoods_model_underwoods_sim_learn_noise_n200\",\n",
    "                  \"grwmh_northwesterns_model_northwesterns_sim_learn_noise_n200\",\n",
    "                  \"grwmh_newells_model_newells_sim_learn_noise_n200\",\n",
    "                  \"grwmh_wangs_model_wangs_sim_learn_noise_n200\",\n",
    "                  \"grwmh_smulders_model_smulders_sim_learn_noise_n200\"]#,\n",
    "                  #\"grwmh_deromphs_model_deromphs_sim_learn_noise\"]\n",
    "data_ids = [\"greenshields_fd_log_simulation_n200\",\n",
    "            \"daganzos_fd_log_simulation_n200\",\n",
    "            \"delcastillos_fd_log_simulation_n200\",\n",
    "            \"greenbergs_fd_log_simulation_n200\",\n",
    "            \"underwoods_fd_log_simulation_n200\",\n",
    "            \"northwesterns_fd_log_simulation_n200\",\n",
    "            \"newells_fd_log_simulation_n200\",\n",
    "            \"wangs_fd_log_simulation_n200\",\n",
    "            \"smulders_fd_log_simulation_n200\"]#,\n",
    "          #\"deromphs_fd_log_simulation_n200\"]"
   ]
  },
  {
   "cell_type": "markdown",
   "id": "incident-reconstruction",
   "metadata": {},
   "source": [
    "## Create simulation parameters for new dataset size"
   ]
  },
  {
   "cell_type": "code",
   "execution_count": 31,
   "id": "colonial-pound",
   "metadata": {},
   "outputs": [],
   "source": [
    "# New dataset size\n",
    "new_n = 500\n",
    "# Flag for exporting parameters to file\n",
    "export = False"
   ]
  },
  {
   "cell_type": "code",
   "execution_count": 32,
   "id": "funky-tuning",
   "metadata": {},
   "outputs": [
    {
     "name": "stderr",
     "output_type": "stream",
     "text": [
      "100%|██████████| 10/10 [00:00<00:00, 1640.39it/s]\n"
     ]
    }
   ],
   "source": [
    "for data_id in tqdm(data_ids):\n",
    "    \n",
    "    # Import toml file\n",
    "    simulation_filename = os.path.join(root,'data','input','simulation_parameters',(data_id+'.toml'))\n",
    "    if os.path.exists(simulation_filename):\n",
    "        simulation_metadata  = toml.load(simulation_filename)\n",
    "    \n",
    "    # Ammend dataset size in id and rho_steps\n",
    "    simulation_metadata['id'] = simulation_metadata['id'].replace(\"_n200\",f\"_n{str(new_n)}\")\n",
    "    simulation_metadata['rho']['interval1']['rho_steps'] = int(new_n)\n",
    "    \n",
    "    # Get new simulation filename\n",
    "    new_simulation_filename = simulation_filename.replace(\"_n200\",f\"_n{str(new_n)}\")\n",
    "\n",
    "    # Export\n",
    "    if export:\n",
    "        with open(new_simulation_filename, 'w') as f:\n",
    "            new_toml_string = toml.dump(simulation_metadata, f)\n",
    "    \n",
    "    "
   ]
  },
  {
   "cell_type": "markdown",
   "id": "ranging-triple",
   "metadata": {},
   "source": [
    "## Create inference parameters for marginal likelihood comparisons\n",
    "This refers to creating copies of an inference id for running inference on different datasets"
   ]
  },
  {
   "cell_type": "code",
   "execution_count": 34,
   "id": "chemical-deployment",
   "metadata": {},
   "outputs": [],
   "source": [
    "# Pick inference id index\n",
    "index = 0\n",
    "# Flag for exporting parameters to file\n",
    "export = False"
   ]
  },
  {
   "cell_type": "code",
   "execution_count": 35,
   "id": "elegant-midnight",
   "metadata": {},
   "outputs": [
    {
     "name": "stderr",
     "output_type": "stream",
     "text": [
      "100%|██████████| 10/10 [00:00<00:00, 105384.52it/s]\n"
     ]
    }
   ],
   "source": [
    "# Make sure index is in list\n",
    "assert index < len(inference_ids)\n",
    "\n",
    "# Get inference id\n",
    "inference_id = inference_ids[index]\n",
    "\n",
    "# Loop through datasets\n",
    "for data_id in tqdm(data_ids):\n",
    "    \n",
    "    # Get dataset FD model name\n",
    "    data_fd = inference_id.split('_sim',1)[0].split(\"_\",-1)[1]\n",
    "    \n",
    "    "
   ]
  },
  {
   "cell_type": "code",
   "execution_count": 36,
   "id": "collect-makeup",
   "metadata": {},
   "outputs": [
    {
     "data": {
      "text/plain": [
       "'exponential'"
      ]
     },
     "execution_count": 36,
     "metadata": {},
     "output_type": "execute_result"
    }
   ],
   "source": [
    "data_fd"
   ]
  }
 ],
 "metadata": {
  "kernelspec": {
   "display_name": "ptfm_kernel",
   "language": "python",
   "name": "ptfm_kernel"
  },
  "language_info": {
   "codemirror_mode": {
    "name": "ipython",
    "version": 3
   },
   "file_extension": ".py",
   "mimetype": "text/x-python",
   "name": "python",
   "nbconvert_exporter": "python",
   "pygments_lexer": "ipython3",
   "version": "3.7.5"
  }
 },
 "nbformat": 4,
 "nbformat_minor": 5
}
