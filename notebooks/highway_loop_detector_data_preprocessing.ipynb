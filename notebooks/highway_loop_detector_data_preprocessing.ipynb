{
 "cells": [
  {
   "cell_type": "code",
   "execution_count": 1,
   "id": "fatty-seafood",
   "metadata": {},
   "outputs": [],
   "source": [
    "import numpy as np\n",
    "import pandas as pd\n",
    "import matplotlib.pyplot as plt\n",
    "import scipy.linalg\n",
    "import scipy.optimize as so\n",
    "import scipy.stats as ss\n",
    "import copy\n",
    "import json\n",
    "\n",
    "\n",
    "from tqdm import tqdm \n",
    "from matplotlib import cm\n",
    "from matplotlib.ticker import LinearLocator"
   ]
  },
  {
   "cell_type": "markdown",
   "id": "straight-world",
   "metadata": {},
   "source": [
    "# Import data"
   ]
  },
  {
   "cell_type": "code",
   "execution_count": 2,
   "id": "subjective-substitute",
   "metadata": {},
   "outputs": [],
   "source": [
    "fd_filename = \"/Users/Yannis/code/probabilistic_traffic_flow_modelling/data/raw/fd_shape.tsv\"\n",
    "fd_data = pd.read_csv(fd_filename, sep='\\t',names=[\"station\", \"right_end_occ\", \"mean_flow\", \"sd_flow\", \"number_observed\"])\n",
    "\n",
    "m25_filename = \"/Users/Yannis/code/probabilistic_traffic_flow_modelling/data/raw/m25_data.csv\"\n",
    "m25_data = pd.read_csv(m25_filename)"
   ]
  },
  {
   "cell_type": "markdown",
   "id": "eligible-crash",
   "metadata": {},
   "source": [
    "# Process data"
   ]
  },
  {
   "cell_type": "code",
   "execution_count": 43,
   "id": "micro-governor",
   "metadata": {},
   "outputs": [],
   "source": [
    "m25_data = m25_data.sort_values('density')"
   ]
  },
  {
   "cell_type": "code",
   "execution_count": 48,
   "id": "instant-definition",
   "metadata": {},
   "outputs": [],
   "source": [
    "rho = m25_data.density.values\n",
    "q = m25_data.flow.values\n",
    "log_q = np.log(q)"
   ]
  },
  {
   "cell_type": "markdown",
   "id": "close-cinema",
   "metadata": {},
   "source": [
    "# Export data"
   ]
  },
  {
   "cell_type": "code",
   "execution_count": 52,
   "id": "angry-three",
   "metadata": {},
   "outputs": [],
   "source": [
    "np.savetxt('/Users/Yannis/code/probabilistic_traffic_flow_modelling/data/output/fundamental_diagram_data/m25_data_n392/q.txt',m25_data.flow)\n",
    "np.savetxt('/Users/Yannis/code/probabilistic_traffic_flow_modelling/data/output/fundamental_diagram_data/m25_data_n392/log_q.txt',np.log(m25_data.flow))\n",
    "np.savetxt('/Users/Yannis/code/probabilistic_traffic_flow_modelling/data/output/fundamental_diagram_data/m25_data_n392/rho.txt',m25_data.density)"
   ]
  }
 ],
 "metadata": {
  "kernelspec": {
   "display_name": "ptfm_kernel",
   "language": "python",
   "name": "ptfm_kernel"
  },
  "language_info": {
   "codemirror_mode": {
    "name": "ipython",
    "version": 3
   },
   "file_extension": ".py",
   "mimetype": "text/x-python",
   "name": "python",
   "nbconvert_exporter": "python",
   "pygments_lexer": "ipython3",
   "version": "3.7.5"
  }
 },
 "nbformat": 4,
 "nbformat_minor": 5
}
