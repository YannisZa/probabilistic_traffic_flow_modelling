{
 "cells": [
  {
   "cell_type": "code",
   "execution_count": 1,
   "id": "fatty-seafood",
   "metadata": {},
   "outputs": [],
   "source": [
    "import numpy as np\n",
    "import pandas as pd\n",
    "import matplotlib.pyplot as plt\n",
    "import scipy.linalg\n",
    "import scipy.optimize as so\n",
    "import scipy.stats as ss\n",
    "import copy\n",
    "import json\n",
    "import seaborn as sns\n",
    "import matplotlib\n",
    "\n",
    "from tqdm import tqdm \n",
    "from matplotlib import cm\n",
    "from matplotlib.ticker import LinearLocator"
   ]
  },
  {
   "cell_type": "markdown",
   "id": "straight-world",
   "metadata": {},
   "source": [
    "# Import data"
   ]
  },
  {
   "cell_type": "code",
   "execution_count": 2,
   "id": "subjective-substitute",
   "metadata": {},
   "outputs": [],
   "source": [
    "fd_filename = \"/Users/Yannis/code/probabilistic_traffic_flow_modelling/data/raw/fd_shape.tsv\"\n",
    "fd_data = pd.read_csv(fd_filename, sep='\\t',names=[\"station\", \"right_end_occ\", \"mean_flow\", \"sd_flow\", \"number_observed\"])\n",
    "\n",
    "m25_filename = \"/Users/Yannis/code/probabilistic_traffic_flow_modelling/data/raw/m25_data.csv\"\n",
    "m25_data = pd.read_csv(m25_filename)"
   ]
  },
  {
   "cell_type": "markdown",
   "id": "eligible-crash",
   "metadata": {},
   "source": [
    "# Process data"
   ]
  },
  {
   "cell_type": "code",
   "execution_count": 3,
   "id": "micro-governor",
   "metadata": {},
   "outputs": [],
   "source": [
    "m25_data = m25_data.sort_values('density')"
   ]
  },
  {
   "cell_type": "code",
   "execution_count": 4,
   "id": "instant-definition",
   "metadata": {},
   "outputs": [],
   "source": [
    "rho = m25_data.density.values\n",
    "q = m25_data.flow.values\n",
    "log_q = np.log(q)"
   ]
  },
  {
   "cell_type": "markdown",
   "id": "atmospheric-launch",
   "metadata": {},
   "source": [
    "# Pretty visualisations"
   ]
  },
  {
   "cell_type": "code",
   "execution_count": null,
   "id": "legitimate-singapore",
   "metadata": {},
   "outputs": [],
   "source": [
    "matplotlib.use(\"pgf\")\n",
    "matplotlib.rcParams.update({\n",
    "    \"pgf.texsystem\": \"pdflatex\",\n",
    "    'font.family': 'serif',\n",
    "    'text.usetex': True,\n",
    "    'pgf.rcfonts': False,\n",
    "})"
   ]
  },
  {
   "cell_type": "code",
   "execution_count": null,
   "id": "amber-constraint",
   "metadata": {},
   "outputs": [],
   "source": [
    "param_names = [r'$Z$',r'$u$',r'$\\rho_j$',r'$\\omega$']\n",
    "fixed_params = [100.0,3.0,100.0,1.0]\n",
    "den = np.linspace(0,100,100)\n",
    "def simulate(r,p):\n",
    "    return p[0]*( ((p[1]/p[2])*r)**(-p[3]) + (1-(r/p[2]))**(-p[3]) )**(-1/p[3])\n",
    "\n",
    "data = pd.DataFrame(data=den,columns=['density'])\n",
    "fixed_params[-1] = 0.1\n",
    "data['w0_1'] = simulate(den,fixed_params)\n",
    "fixed_params[-1] = 1\n",
    "data['w1'] = simulate(den,fixed_params)\n",
    "fixed_params[-1] = 5\n",
    "data['w5'] = simulate(den,fixed_params)\n",
    "fixed_params[-1] = 10\n",
    "data['w10'] = simulate(den,fixed_params)\n",
    "fixed_params[-1] = 50\n",
    "data['w50'] = simulate(den,fixed_params)\n",
    "fixed_params[-1] = 60\n",
    "data['w100'] = simulate(den,fixed_params)"
   ]
  },
  {
   "cell_type": "code",
   "execution_count": null,
   "id": "cultural-aaron",
   "metadata": {},
   "outputs": [],
   "source": [
    "plt.figure(figsize=(10,10))\n",
    "sns.set_style(\"whitegrid\")\n",
    "ax = sns.lineplot(data = data, x = \"density\", y = \"w1\", label='$\\omega=1$')\n",
    "ax = sns.lineplot(data = data, x = \"density\", y = \"w5\", label='$\\omega=5$')\n",
    "ax = sns.lineplot(data = data, x = \"density\", y = \"w10\", label='$\\omega=10$')\n",
    "ax = sns.lineplot(data = data, x = \"density\", y = \"w100\", label='$\\omega=100$')\n",
    "ax.set_xlabel('Density $k$', fontsize=20)\n",
    "ax.set_ylabel('Flow $q$', fontsize=20)\n",
    "ax.tick_params(axis='both', which='major', labelsize=15)\n",
    "ax.legend(loc='upper right', prop={'size': 15})\n",
    "arrow = u'$\\u2193$'\n",
    "ax.arrow(30, 45, -5, 15, shape='full', lw=1, length_includes_head=True, head_width=1, color='black', linestyle=\"dashed\")\n",
    "ax.annotate(r\"$\\omega$ increases\",(29,50),fontsize=\"20\")\n",
    "plt.tight_layout()    \n",
    "plt.savefig('../data/figures/delcastillos_fd.png',dpi=300)"
   ]
  },
  {
   "cell_type": "markdown",
   "id": "marine-script",
   "metadata": {},
   "source": [
    "## Visualising DelCastillo's data"
   ]
  },
  {
   "cell_type": "code",
   "execution_count": 5,
   "id": "existing-retro",
   "metadata": {},
   "outputs": [],
   "source": [
    "root = '/Users/Yannis/code/probabilistic_traffic_flow_modelling/'\n",
    "output_dir = root+\"data/output/experiment_data/\""
   ]
  },
  {
   "cell_type": "code",
   "execution_count": 6,
   "id": "olympic-generator",
   "metadata": {},
   "outputs": [],
   "source": [
    "def daganzos(r,p):\n",
    "    return (p[0]/p[1])*r * (r < p[1])*1 + p[0]*(p[2]-r)/(p[2]-p[1]) * (r >= p[1])*1\n",
    "def log_daganzos(r,p):\n",
    "    return (np.log(p[0])-np.log(p[1])+np.log(r)) * (r < p[1])*1 + (np.log(p[0])+np.log(p[2]-r)-np.log(p[2]-p[1])) * (r >= p[1])*1\n",
    "\n",
    "daganzos_params = [130, 120, 600, 0.025940885278086342]\n",
    "map_params = [127.27044340191402, 5.643857224897048, 1194.060941272785, 0.025940885278086342]"
   ]
  },
  {
   "cell_type": "code",
   "execution_count": 7,
   "id": "possible-producer",
   "metadata": {},
   "outputs": [],
   "source": [
    "data_id = \"m25_data_fd_n392\"\n",
    "data_fd = \"m25_data\"\n",
    "inference_fd = \"northwesterns\"\n",
    "experiment_type = \"n392\"\n",
    "sensitivity = \"regular\"\n",
    "\n",
    "fds = ['greenshields','daganzos','delcastillos','greenbergs','underwoods','northwesterns','newells','wangs','smulders','deromphs']"
   ]
  },
  {
   "cell_type": "code",
   "execution_count": 8,
   "id": "chief-level",
   "metadata": {},
   "outputs": [],
   "source": [
    "r2s_log = {}\n",
    "r2s = {}\n",
    "for fd in fds:\n",
    "    \n",
    "    pp_file = output_dir + data_id+'/'+f'grwmh_{fd}_model_{data_fd}_learn_noise_{experiment_type}_{sensitivity}_prior'\n",
    "    posterior_predictive = np.loadtxt(pp_file+'/posterior_predictive_mean.txt')\n",
    "    \n",
    "    log_q_hat = posterior_predictive\n",
    "    log_q_bar = np.sum(log_q)/len(log_q)\n",
    "    log_ssres = np.sum((log_q_hat-log_q)**2)   # or sum([ (yihat - ybar)**2 for yihat in yhat])\n",
    "    log_sstot = np.sum((log_q - log_q_bar)**2)    # or sum([ (yi - ybar)**2 for yi in y])\n",
    "    \n",
    "    r2_log = 1 - log_ssres/log_sstot\n",
    "    r2s_log[str(fd)] = float(r2_log)\n",
    "#     print('r2_log',r2_log)\n",
    "\n",
    "    q_hat = np.exp(posterior_predictive)\n",
    "    q_bar = np.sum(q)/len(q)          # or sum(y)/len(y)\n",
    "    ssres = np.sum((q_hat-q)**2)   # or sum([ (yihat - ybar)**2 for yihat in yhat])\n",
    "    sstot = np.sum((q - q_bar)**2)    # or sum([ (yi - ybar)**2 for yi in y])\n",
    "\n",
    "    r2 = 1 - ssres / sstot\n",
    "#     print('r2',r2)\n",
    "    r2s[str(fd)] = float(r2)"
   ]
  },
  {
   "cell_type": "code",
   "execution_count": 10,
   "id": "existing-start",
   "metadata": {},
   "outputs": [
    {
     "data": {
      "text/plain": [
       "<matplotlib.collections.PathCollection at 0x13e4341d0>"
      ]
     },
     "execution_count": 10,
     "metadata": {},
     "output_type": "execute_result"
    },
    {
     "data": {
      "image/png": "[encoded data removed]",
      "text/plain": [
       "<Figure size 720x720 with 1 Axes>"
      ]
     },
     "metadata": {
      "needs_background": "light"
     },
     "output_type": "display_data"
    }
   ],
   "source": [
    "plt.figure(figsize=(10,10))\n",
    "# plt.scatter(rho,log_q)\n",
    "# plt.plot(rho,log_daganzos(rho,daganzos_params),color='red')\n",
    "plt.scatter(rho,q)\n",
    "# plt.plot(rho,daganzos(rho,daganzos_params),color='red')"
   ]
  },
  {
   "cell_type": "markdown",
   "id": "close-cinema",
   "metadata": {},
   "source": [
    "# Export data"
   ]
  },
  {
   "cell_type": "code",
   "execution_count": null,
   "id": "angry-three",
   "metadata": {},
   "outputs": [],
   "source": [
    "np.savetxt('/Users/Yannis/code/probabilistic_traffic_flow_modelling/data/output/fundamental_diagram_data/m25_data_n392/q.txt',m25_data.flow)\n",
    "np.savetxt('/Users/Yannis/code/probabilistic_traffic_flow_modelling/data/output/fundamental_diagram_data/m25_data_n392/log_q.txt',np.log(m25_data.flow))\n",
    "np.savetxt('/Users/Yannis/code/probabilistic_traffic_flow_modelling/data/output/fundamental_diagram_data/m25_data_n392/rho.txt',m25_data.density)"
   ]
  }
 ],
 "metadata": {
  "kernelspec": {
   "display_name": "ptfm_kernel",
   "language": "python",
   "name": "ptfm_kernel"
  },
  "language_info": {
   "codemirror_mode": {
    "name": "ipython",
    "version": 3
   },
   "file_extension": ".py",
   "mimetype": "text/x-python",
   "name": "python",
   "nbconvert_exporter": "python",
   "pygments_lexer": "ipython3",
   "version": "3.7.5"
  }
 },
 "nbformat": 4,
 "nbformat_minor": 5
}
