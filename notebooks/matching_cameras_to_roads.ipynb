{
 "cells": [
  {
   "cell_type": "code",
   "execution_count": 1,
   "id": "knowing-consumer",
   "metadata": {},
   "outputs": [],
   "source": [
    "import numpy as np\n",
    "import pandas as pd\n",
    "import geopandas as gpd\n",
    "import matplotlib.pyplot as plt\n",
    "import scipy.linalg\n",
    "import scipy.stats\n",
    "import copy\n",
    "import shapely.wkt \n",
    "import itertools\n",
    "import multiprocessing as mp\n",
    "\n",
    "from functools import partial\n",
    "from sklearn.neighbors import BallTree\n",
    "from shapely.geometry import Point,LineString\n",
    "from tqdm import tqdm "
   ]
  },
  {
   "cell_type": "markdown",
   "id": "simplified-saint",
   "metadata": {},
   "source": [
    "# Import data"
   ]
  },
  {
   "cell_type": "code",
   "execution_count": 3,
   "id": "foster-security",
   "metadata": {},
   "outputs": [],
   "source": [
    "# Import camera metadata\n",
    "camera_metadata_filename = \"../data/raw/camera_metadata.csv\"\n",
    "camera_metadata = pd.read_csv(camera_metadata_filename)\n",
    "\n",
    "# Import camera metadata\n",
    "london_roads_filename = \"../data/raw/arup_network_links_london2.geojson\"\n",
    "# london_roads = gpd.read_file(london_roads_filename)s"
   ]
  },
  {
   "cell_type": "markdown",
   "id": "integral-robertson",
   "metadata": {},
   "source": [
    "# Clean data"
   ]
  },
  {
   "cell_type": "code",
   "execution_count": 4,
   "id": "norman-metropolitan",
   "metadata": {},
   "outputs": [],
   "source": [
    "# Keep only working cameras\n",
    "camera_metadata = camera_metadata[camera_metadata.flag == 0]\n",
    "# Keep only necessary columns\n",
    "camera_metadata = camera_metadata[['id', 'camera_id', 'location', 'notes','borough_name', 'borough_gss_code']]\n",
    "# Convert string to point\n",
    "camera_metadata['location'] = camera_metadata['location'].apply(lambda x: shapely.wkt.loads(x))\n",
    "\n",
    "# Convert pandas to geopandas\n",
    "camera_metadata_geo = gpd.GeoDataFrame(camera_metadata, geometry=camera_metadata.location)"
   ]
  },
  {
   "cell_type": "code",
   "execution_count": 16,
   "id": "representative-thesis",
   "metadata": {},
   "outputs": [],
   "source": [
    "# Remove unnecessary data\n",
    "london_roads = london_roads.drop(columns=['s2_from','s2_to','ids','u','v','key'])\n",
    "london_roads = london_roads.rename(columns={\"id\":\"road_id\"})\n",
    "london_roads = london_roads[london_roads.modes.str.contains(\"car\")]\n",
    "# Export roads only\n",
    "# london_roads.to_file(\"../data/raw/arup_road_links_london2.geojson\", driver='GeoJSON', crs='EPSG:4326')"
   ]
  },
  {
   "cell_type": "markdown",
   "id": "minimal-subsection",
   "metadata": {},
   "source": [
    "# Prepare camera data metadata collection"
   ]
  },
  {
   "cell_type": "code",
   "execution_count": 33,
   "id": "animated-ancient",
   "metadata": {},
   "outputs": [],
   "source": [
    "camera_metadata_geo_metadata = camera_metadata_geo[['camera_id','geometry','notes']]\n",
    "camera_metadata_geo_metadata = camera_metadata_geo_metadata.loc[camera_metadata_geo_metadata.index.repeat(12)]\n",
    "camera_metadata_geo_metadata['ambiguous_collection'] = False\n",
    "camera_metadata_geo_metadata['area_classification'] = ''\n",
    "camera_metadata_geo_metadata['camera_dislocated'] = False\n",
    "camera_metadata_geo_metadata['camera_visibility'] = 'high'\n",
    "camera_metadata_geo_metadata['visibility_reason'] = ''\n",
    "camera_metadata_geo_metadata['pedestrian_crossing_exists'] = False\n",
    "camera_metadata_geo_metadata['cycle_path_exists'] = False\n",
    "camera_metadata_geo_metadata['bus_lane_exists'] = False\n",
    "camera_metadata_geo_metadata['on_bridge'] = False\n",
    "camera_metadata_geo_metadata['road_works_exist'] = False\n",
    "camera_metadata_geo_metadata['partially_observed_road'] = False\n",
    "camera_metadata_geo_metadata[['road_id','road_network_name']] = ''"
   ]
  },
  {
   "cell_type": "code",
   "execution_count": 35,
   "id": "comparable-insured",
   "metadata": {},
   "outputs": [],
   "source": [
    "camera_metadata_geo_metadata.to_csv('../data/input/tfl_camera_detailed_metadata.csv')"
   ]
  },
  {
   "cell_type": "markdown",
   "id": "exceptional-hebrew",
   "metadata": {},
   "source": [
    "# Find road closest to camera"
   ]
  },
  {
   "cell_type": "code",
   "execution_count": 30,
   "id": "initial-salmon",
   "metadata": {},
   "outputs": [],
   "source": [
    "def nearest(p,lines,k):\n",
    "    elem = {}\n",
    "    elem['camera_id'] = p[1]\n",
    "\n",
    "    # Get distances between camera and roads\n",
    "    camera_distances = [(p[0].distance(r),_id) for r,_id in lines]\n",
    "\n",
    "    # Get k nearest neighbours\n",
    "    camera_nearest_neighbours = sorted(camera_distances, key = lambda t: t[0])[0:k]\n",
    "\n",
    "    # Get list of road ids\n",
    "    closest_road_ids = [x[1] for x in camera_nearest_neighbours]\n",
    "    closest_road_distances = [x[0] for x in camera_nearest_neighbours]\n",
    "\n",
    "    # Append results\n",
    "    elem['road_ids'] = closest_road_ids\n",
    "    elem['distance'] = closest_road_distances\n",
    "    \n",
    "    return elem\n",
    "    \n",
    "def nearest_roads(source_gpd,dest_gpd,k=1):\n",
    "    roads_nearest_to_camera = []\n",
    "    \n",
    "    # Get list of roads and their ids\n",
    "    roads = dest_gpd[['geometry','road_id']].values\n",
    "    \n",
    "    # Get list of cameras and their ids\n",
    "    cameras = source_gpd[['geometry','camera_id']].values\n",
    "    \n",
    "    # Parallelise across 4 cores\n",
    "    with mp.Pool(processes = 4) as process:\n",
    "        with tqdm(total=cameras.shape[0]) as pbar:\n",
    "            for i, elem in enumerate(process.imap_unordered(partial(nearest, lines=roads, k=k), cameras)):\n",
    "                roads_nearest_to_camera.append(elem)\n",
    "                pbar.update()\n",
    "    \n",
    "    return roads_nearest_to_camera"
   ]
  },
  {
   "cell_type": "code",
   "execution_count": 32,
   "id": "reflected-lightning",
   "metadata": {},
   "outputs": [
    {
     "name": "stderr",
     "output_type": "stream",
     "text": [
      "100%|██████████| 804/804 [1:19:14<00:00,  5.91s/it]\n"
     ]
    }
   ],
   "source": [
    "roads_nearest_to_cameras = nearest_roads(camera_metadata_geo,london_roads,3)"
   ]
  },
  {
   "cell_type": "code",
   "execution_count": 33,
   "id": "expanded-canyon",
   "metadata": {},
   "outputs": [],
   "source": [
    "# Create a dataframe from list of dictionaries\n",
    "roads_nearest_to_cameras_df = pd.DataFrame(roads_nearest_to_cameras)\n",
    "\n",
    "# Get road ids\n",
    "road_ids = roads_nearest_to_cameras_df['road_ids'].values\n",
    "# Merge all road ids\n",
    "road_ids = np.array(list(itertools.chain.from_iterable(road_ids)))\n",
    "\n",
    "# Create a column for each road list element\n",
    "roads_nearest_to_cameras_df[['road_id1','road_id2','road_id3']] = pd.DataFrame(roads_nearest_to_cameras_df['road_ids'].to_list(), columns=['road_id1','road_id2','road_id3'])\n",
    "\n",
    "# Drop unnecessary columns\n",
    "roads_nearest_to_cameras_df = roads_nearest_to_cameras_df.drop(columns=['road_ids'])\n",
    "\n",
    "# Stack camera and road id dataframes in list \n",
    "camera_road_pairs = []\n",
    "for i in range(1,4):\n",
    "    camera_road_pairs.append(roads_nearest_to_cameras_df[['camera_id',f'road_id{i}']].values)\n",
    "camera_road_pairs = np.array(list(itertools.chain.from_iterable(camera_road_pairs)))"
   ]
  },
  {
   "cell_type": "code",
   "execution_count": 34,
   "id": "tight-absence",
   "metadata": {},
   "outputs": [],
   "source": [
    "# Create a mapping between camera and roads \n",
    "camera_road_pairs = []\n",
    "for i in range(1,4):\n",
    "    camera_road_pairs.append(roads_nearest_to_cameras_df[['camera_id',f'road_id{i}']].values)\n",
    "camera_road_pairs = np.array(list(itertools.chain.from_iterable(camera_road_pairs)))\n",
    "\n",
    "camera_to_road_mapping = pd.DataFrame(camera_road_pairs, columns=['camera_id','road_id'])\n",
    "# Join camera dataframe and road dataframe\n",
    "camera_roads = pd.merge(camera_metadata_geo, camera_to_road_mapping, on=\"camera_id\")\n",
    "\n",
    "camera_roads = pd.merge(camera_roads,london_roads, on=\"road_id\")\n",
    "\n",
    "camera_roads = camera_roads.rename(columns={\"geometry_x\":\"camera_geometry\",\"geometry_y\":\"road_geometry\"})\n",
    "\n",
    "camera_roads = camera_roads.drop(columns=['id','location'])"
   ]
  },
  {
   "cell_type": "markdown",
   "id": "printable-coordinator",
   "metadata": {},
   "source": [
    "## Export data"
   ]
  },
  {
   "cell_type": "code",
   "execution_count": 35,
   "id": "collected-triumph",
   "metadata": {},
   "outputs": [],
   "source": [
    "camera_roads.to_csv('../data/output/misc/cameras_to_roads.csv')"
   ]
  }
 ],
 "metadata": {
  "kernelspec": {
   "display_name": "ptfm_kernel",
   "language": "python",
   "name": "ptfm_kernel"
  },
  "language_info": {
   "codemirror_mode": {
    "name": "ipython",
    "version": 3
   },
   "file_extension": ".py",
   "mimetype": "text/x-python",
   "name": "python",
   "nbconvert_exporter": "python",
   "pygments_lexer": "ipython3",
   "version": "3.7.5"
  }
 },
 "nbformat": 4,
 "nbformat_minor": 5
}
