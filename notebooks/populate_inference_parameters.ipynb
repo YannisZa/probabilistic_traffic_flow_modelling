{
 "cells": [
  {
   "cell_type": "code",
   "execution_count": 1,
   "id": "czech-chaos",
   "metadata": {},
   "outputs": [],
   "source": [
    "import toml"
   ]
  },
  {
   "cell_type": "code",
   "execution_count": null,
   "id": "contrary-purchase",
   "metadata": {},
   "outputs": [],
   "source": []
  },
  {
   "cell_type": "code",
   "execution_count": 2,
   "id": "capable-thread",
   "metadata": {},
   "outputs": [],
   "source": [
    "# Get data and inference ids\n",
    "data_ids = [\"exponential_fd_log_simulation\",\n",
    "            \"greenshields_fd_log_simulation\",\n",
    "            \"daganzos_fd_log_simulation\",\n",
    "            \"delcastillos_fd_log_simulation\",\n",
    "            \"greenbergs_fd_log_simulation\",\n",
    "            \"underwoods_fd_log_simulation\",\n",
    "            \"northwesterns_fd_log_simulation\",\n",
    "            \"newells_fd_log_simulation\",\n",
    "            \"wangs_fd_log_simulation\",\n",
    "            \"smulders_fd_log_simulation\"]\n",
    "inference_ids = [\"grwmh_exponential_model_exponential_sim_learn_noise\",\n",
    "                  \"grwmh_greenshields_model_greenshields_sim_learn_noise\",\n",
    "                  \"grwmh_daganzos_model_daganzos_sim_learn_noise\",\n",
    "                  \"grwmh_delcastillos_model_delcastillos_sim_learn_noise\",\n",
    "                  \"grwmh_greenbergs_model_greenbergs_sim_learn_noise\",\n",
    "                  \"grwmh_underwoods_model_underwoods_sim_learn_noise\",\n",
    "                  \"grwmh_northwesterns_model_northwesterns_sim_learn_noise\",\n",
    "                  \"grwmh_newells_model_newells_sim_learn_noise\",\n",
    "                  \"grwmh_wangs_model_wangs_sim_learn_noise\",\n",
    "                  \"grwmh_smulders_model_smulders_sim_learn_noise\"]"
   ]
  },
  {
   "cell_type": "code",
   "execution_count": null,
   "id": "dominant-calcium",
   "metadata": {},
   "outputs": [],
   "source": []
  }
 ],
 "metadata": {
  "kernelspec": {
   "display_name": "ptfm_kernel",
   "language": "python",
   "name": "ptfm_kernel"
  },
  "language_info": {
   "codemirror_mode": {
    "name": "ipython",
    "version": 3
   },
   "file_extension": ".py",
   "mimetype": "text/x-python",
   "name": "python",
   "nbconvert_exporter": "python",
   "pygments_lexer": "ipython3",
   "version": "3.7.5"
  }
 },
 "nbformat": 4,
 "nbformat_minor": 5
}
