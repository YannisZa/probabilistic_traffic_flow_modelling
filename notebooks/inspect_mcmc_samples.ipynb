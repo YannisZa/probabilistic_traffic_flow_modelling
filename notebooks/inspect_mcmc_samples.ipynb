{
 "cells": [
  {
   "cell_type": "code",
   "execution_count": 3,
   "id": "timely-delicious",
   "metadata": {},
   "outputs": [],
   "source": [
    "import numpy as np\n",
    "import pandas as pd\n",
    "import matplotlib.pyplot as plt\n",
    "import scipy.linalg\n",
    "import scipy.optimize as so\n",
    "import scipy.stats as ss\n",
    "import copy\n",
    "import json\n",
    "\n",
    "\n",
    "from tqdm import tqdm \n",
    "from matplotlib import cm\n",
    "from matplotlib.ticker import LinearLocator"
   ]
  },
  {
   "cell_type": "code",
   "execution_count": 6,
   "id": "occupied-testimony",
   "metadata": {},
   "outputs": [],
   "source": [
    "root = '/Users/Yannis/code/probabilistic_traffic_flow_modelling/'"
   ]
  },
  {
   "cell_type": "code",
   "execution_count": 23,
   "id": "treated-colorado",
   "metadata": {},
   "outputs": [],
   "source": [
    "data_fd = 'greenbergs'\n",
    "inference_fd = 'underwoods'\n",
    "ti = True\n",
    "T = 30\n",
    "N = 300000\n",
    "\n",
    "root = '/Users/Yannis/code/probabilistic_traffic_flow_modelling/data/output/experiment_data/'\n",
    "if ti:\n",
    "    mcmc_file = root+f'{data_fd}_fd_log_simulation_n200/'+f\"grwmh_{inference_fd}_model_{data_fd}_sim_learn_noise_n200/thermodynamic_integration/thermodynamic_integration_theta.txt\"\n",
    "else:\n",
    "    mcmc_file = root+f'{data_fd}_fd_log_simulation_n200/'+f\"grwmh_{inference_fd}_model_{data_fd}_sim_learn_noise_n200/theta.txt\""
   ]
  },
  {
   "cell_type": "code",
   "execution_count": 24,
   "id": "satellite-harassment",
   "metadata": {},
   "outputs": [],
   "source": [
    "# Read mcmc chain data\n",
    "chains = np.loadtxt(mcmc_file)"
   ]
  },
  {
   "cell_type": "code",
   "execution_count": 25,
   "id": "desperate-convention",
   "metadata": {},
   "outputs": [
    {
     "name": "stdout",
     "output_type": "stream",
     "text": [
      "N = 300000, T = 30, P = 3\n"
     ]
    }
   ],
   "source": [
    "# Reshape\n",
    "P = np.shape(chains)[1]\n",
    "chains = chains.reshape((N,T,P))\n",
    "print(f'N = {N}, T = {T}, P = {P}')"
   ]
  },
  {
   "cell_type": "code",
   "execution_count": 27,
   "id": "collected-wholesale",
   "metadata": {},
   "outputs": [
    {
     "name": "stdout",
     "output_type": "stream",
     "text": [
      "[[ 7.98055904 13.01764389  0.0232363 ]\n",
      " [ 7.99347707 12.92742646  0.0217372 ]\n",
      " [ 7.89595574 12.99204837  0.02214315]\n",
      " [ 8.00358702 13.04220497  0.02417694]\n",
      " [ 7.92947481 13.00349497  0.02351779]\n",
      " [ 8.02058384 13.02182143  0.02445467]\n",
      " [ 7.86269364 13.03040504  0.02438237]\n",
      " [ 7.9434068  12.9795992   0.02315836]\n",
      " [ 8.02565128 13.04394922  0.02507381]\n",
      " [ 7.92820904 13.03531327  0.02515796]\n",
      " [ 7.9985806  13.09086556  0.02571348]\n",
      " [ 7.95190572 13.07051193  0.02601915]\n",
      " [ 7.98934727 13.08001546  0.02585283]\n",
      " [ 8.04886683 13.01030709  0.02654977]\n",
      " [ 7.9232717  13.08592979  0.02655481]\n",
      " [ 7.99442758 13.04980865  0.02781063]\n",
      " [ 7.9910694  13.03170116  0.02764359]\n",
      " [ 8.00380679 13.0397983   0.02834122]\n",
      " [ 7.9977686  13.03747761  0.02765554]\n",
      " [ 7.98247682 13.03637606  0.02859677]\n",
      " [ 7.97441294 13.05087013  0.02843055]\n",
      " [ 7.98765696 13.03846464  0.02781174]\n",
      " [ 7.98886287 13.03625853  0.02779252]\n",
      " [ 7.99021855 13.02844214  0.02755153]\n",
      " [ 7.98565414 13.0285561   0.02741887]\n",
      " [ 7.96994647 13.05474133  0.02760595]\n",
      " [ 7.9862748  13.03501504  0.02728279]\n",
      " [ 7.97596063 13.04000402  0.02711971]\n",
      " [ 7.96897312 13.05158807  0.02723931]\n",
      " [ 7.97327648 13.04725691  0.02703168]]\n"
     ]
    }
   ],
   "source": [
    "# Apply transformation\n",
    "chain_transformed_mean = np.mean(chains,axis=0)\n",
    "chain_mean = np.exp(chain_transformed_mean)\n",
    "\n",
    "print(chain_mean)"
   ]
  }
 ],
 "metadata": {
  "kernelspec": {
   "display_name": "ptfm_kernel",
   "language": "python",
   "name": "ptfm_kernel"
  },
  "language_info": {
   "codemirror_mode": {
    "name": "ipython",
    "version": 3
   },
   "file_extension": ".py",
   "mimetype": "text/x-python",
   "name": "python",
   "nbconvert_exporter": "python",
   "pygments_lexer": "ipython3",
   "version": "3.7.5"
  }
 },
 "nbformat": 4,
 "nbformat_minor": 5
}
