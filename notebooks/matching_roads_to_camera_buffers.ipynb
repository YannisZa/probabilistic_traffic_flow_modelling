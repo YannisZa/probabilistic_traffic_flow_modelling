{
 "cells": [
  {
   "cell_type": "code",
   "execution_count": 74,
   "id": "knowing-consumer",
   "metadata": {},
   "outputs": [],
   "source": [
    "import numpy as np\n",
    "import pandas as pd\n",
    "import geopandas as gpd\n",
    "import matplotlib.pyplot as plt\n",
    "import scipy.linalg\n",
    "import scipy.stats\n",
    "import copy\n",
    "import shapely.wkt \n",
    "import itertools\n",
    "import multiprocessing as mp\n",
    "from descartes import PolygonPatch\n",
    "\n",
    "from functools import partial\n",
    "from sklearn.neighbors import BallTree\n",
    "from shapely.geometry import Point,LineString\n",
    "from tqdm import tqdm\n",
    "from tqdm.notebook import trange,tqdm_notebook"
   ]
  },
  {
   "cell_type": "markdown",
   "id": "simplified-saint",
   "metadata": {},
   "source": [
    "# Import data"
   ]
  },
  {
   "cell_type": "code",
   "execution_count": 126,
   "id": "foster-security",
   "metadata": {},
   "outputs": [],
   "source": [
    "# Import camera metadata\n",
    "camera_buffers_filename = \"../data/raw/camera_buffer_zones_separated.geojson\"\n",
    "# camera_buffers = gpd.read_file(camera_buffers_filename)\n",
    "camera_buffers_dissolved_filename = \"../data/raw/camera_buffer_zones.geojson\"\n",
    "camera_buffers_dissolved = gpd.read_file(camera_buffers_dissolved_filename)\n",
    "\n",
    "# Import road metadata\n",
    "london_roads_filename = \"../data/raw/os_highway_tfl_road.geojson\"\n",
    "# \"../data/raw/os_highway_tfl_road.geojson\"\n",
    "# \"../data/raw/arup_network_links_london2.geojson\"\n",
    "\n",
    "london_roads = gpd.read_file(london_roads_filename)\n",
    "london_roads_copy = copy.deepcopy(london_roads)\n",
    "\n",
    "arup_dataset = False"
   ]
  },
  {
   "cell_type": "markdown",
   "id": "integral-robertson",
   "metadata": {},
   "source": [
    "# Clean data"
   ]
  },
  {
   "cell_type": "code",
   "execution_count": 55,
   "id": "norman-metropolitan",
   "metadata": {},
   "outputs": [],
   "source": [
    "# Keep only working cameras\n",
    "# camera_buffers = camera_buffers[camera_buffers.flag == 0]\n",
    "# Keep only necessary columns\n",
    "camera_buffers = camera_buffers[['id', 'camera_id', 'notes','borough_name', 'borough_gss_code','flag','geometry']]"
   ]
  },
  {
   "cell_type": "code",
   "execution_count": 132,
   "id": "representative-thesis",
   "metadata": {},
   "outputs": [],
   "source": [
    "if arup_dataset:\n",
    "    # Remove unnecessary data\n",
    "    london_roads = london_roads.drop(columns=['s2_from','s2_to','ids','u','v','key'])\n",
    "    london_roads = london_roads.rename(columns={\"id\":\"road_id\"})\n",
    "    london_roads = london_roads[london_roads.modes.str.contains(\"car\")]\n",
    "    # Export roads only\n",
    "    # london_roads.to_file(\"../data/raw/arup_road_links_london2.geojson\", driver='GeoJSON', crs='EPSG:4326')\n",
    "else:\n",
    "    # Remove unnecessary data\n",
    "#     london_roads = london_roads.drop(columns=['s2_from','s2_to','ids','u','v','key'])\n",
    "    london_roads = london_roads.rename(columns={\"toid\":\"road_id\"})"
   ]
  },
  {
   "cell_type": "markdown",
   "id": "convertible-matter",
   "metadata": {},
   "source": [
    "# Plot dissolved camera buffer multipolygon"
   ]
  },
  {
   "cell_type": "code",
   "execution_count": 133,
   "id": "pleased-capitol",
   "metadata": {},
   "outputs": [],
   "source": [
    "# BLUE = '#6699cc'\n",
    "# fig = plt.figure() \n",
    "# ax = fig.gca() \n",
    "# ax.add_patch(PolygonPatch(camerdda_buffers_dissolved, fc=BLUE, ec=BLUE, alpha=0.5, zorder=2 ))\n",
    "# ax.axis('scaled')\n",
    "# plt.show()"
   ]
  },
  {
   "cell_type": "markdown",
   "id": "exceptional-hebrew",
   "metadata": {},
   "source": [
    "# Find road within buffer"
   ]
  },
  {
   "cell_type": "code",
   "execution_count": 135,
   "id": "blank-drama",
   "metadata": {},
   "outputs": [],
   "source": [
    "sample_road_df = london_roads[london_roads.road_id == '80402']\n",
    "# 85025\n",
    "# 80402"
   ]
  },
  {
   "cell_type": "code",
   "execution_count": 136,
   "id": "initial-salmon",
   "metadata": {},
   "outputs": [],
   "source": [
    "def find_overlapping_roads_per_buffer(roads,buffers):\n",
    "    # Loop each road \n",
    "    n_buffers = np.unique(buffers.camera_id).shape[0]\n",
    "    roads_per_buffer = dict(zip(np.unique(buffers.camera_id), [[] for i in range(n_buffers)]))\n",
    "    for rindex, road in tqdm_notebook(roads.iterrows()):\n",
    "        for bindex, buffer in tqdm_notebook(buffers.iterrows(),leave=False):\n",
    "            if road.geometry.intersects(buffer.geometry):\n",
    "                roads_per_buffer[buffer.camera_id].append(road.road_id)\n",
    "    return roads_per_buffer\n",
    "def find_overlapping_roads(roads,dissolved_buffer):\n",
    "    # Loop each road \n",
    "    buffer_roads = []\n",
    "    for rindex, road in tqdm_notebook(roads.iterrows(),total=roads.shape[0]):\n",
    "        if road.geometry.intersects(dissolved_buffer.geometry[0]):\n",
    "            buffer_roads.append(road.road_id)\n",
    "    return buffer_roads"
   ]
  },
  {
   "cell_type": "code",
   "execution_count": 137,
   "id": "reflected-lightning",
   "metadata": {},
   "outputs": [
    {
     "data": {
      "application/vnd.jupyter.widget-view+json": {
       "model_id": "d731b846a2394f02a839cf3e068efe66",
       "version_major": 2,
       "version_minor": 0
      },
      "text/plain": [
       "  0%|          | 0/339214 [00:00<?, ?it/s]"
      ]
     },
     "metadata": {},
     "output_type": "display_data"
    }
   ],
   "source": [
    "# roads_per_camera_buffer = find_overlapping_roads_per_buffer(sample_road_df,camera_buffers)\n",
    "camera_buffer_road_ids = find_overlapping_roads(london_roads,camera_buffers_dissolved)"
   ]
  },
  {
   "cell_type": "code",
   "execution_count": 138,
   "id": "loaded-opera",
   "metadata": {},
   "outputs": [
    {
     "name": "stdout",
     "output_type": "stream",
     "text": [
      "Roads reduced from 339214 to 15114\n"
     ]
    }
   ],
   "source": [
    "print(f'Roads reduced from {london_roads.shape[0]} to {len(camera_buffer_road_ids)}')"
   ]
  },
  {
   "cell_type": "code",
   "execution_count": 139,
   "id": "appropriate-stewart",
   "metadata": {},
   "outputs": [],
   "source": [
    "if arup_dataset:\n",
    "    # Get london roads intersecting dissolved camera buffer\n",
    "    london_roads_subset = london_roads[london_roads.road_id.isin(camera_buffer_road_ids)]\n",
    "else:\n",
    "    london_roads_subset = london_roads[london_roads.road_id.isin(camera_buffer_road_ids)]"
   ]
  },
  {
   "cell_type": "markdown",
   "id": "printable-coordinator",
   "metadata": {},
   "source": [
    "## Export data"
   ]
  },
  {
   "cell_type": "code",
   "execution_count": 140,
   "id": "collected-triumph",
   "metadata": {},
   "outputs": [],
   "source": [
    "if arup_dataset:\n",
    "    london_roads_subset.to_file('../data/output/gis/arup_roads2_within_camera_buffers.geojson', driver='GeoJSON', crs='EPSG:4326')\n",
    "else:\n",
    "    london_roads_subset.to_file('../data/output/gis/tfl_roads_within_camera_buffers.geojson', driver='GeoJSON', crs='EPSG:4326')"
   ]
  }
 ],
 "metadata": {
  "kernelspec": {
   "display_name": "ptfm_kernel",
   "language": "python",
   "name": "ptfm_kernel"
  },
  "language_info": {
   "codemirror_mode": {
    "name": "ipython",
    "version": 3
   },
   "file_extension": ".py",
   "mimetype": "text/x-python",
   "name": "python",
   "nbconvert_exporter": "python",
   "pygments_lexer": "ipython3",
   "version": "3.7.5"
  }
 },
 "nbformat": 4,
 "nbformat_minor": 5
}
